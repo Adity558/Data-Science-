{
 "cells": [
  {
   "cell_type": "code",
   "execution_count": 1,
   "id": "bcd90e9e",
   "metadata": {},
   "outputs": [],
   "source": [
    "import os # import is a keyword that is used to include module in python"
   ]
  },
  {
   "cell_type": "code",
   "execution_count": null,
   "id": "786cd68d",
   "metadata": {},
   "outputs": [
    {
     "name": "stdout",
     "output_type": "stream",
     "text": [
      "c:\\Users\\USER\\Desktop\\DATA SCIENCE\\OS\n"
     ]
    }
   ],
   "source": [
    "file = os.getcwd() # getcwd() is a method that returns the current working directory\n",
    "print(file)"
   ]
  },
  {
   "cell_type": "code",
   "execution_count": null,
   "id": "aa1d8490",
   "metadata": {},
   "outputs": [
    {
     "name": "stdout",
     "output_type": "stream",
     "text": [
      "total filer in directory ['os.ipynb']\n"
     ]
    }
   ],
   "source": [
    "file= os.listdir() ### listdir() list all the files in the directory\n",
    "print(\"total filer in directory\", file)"
   ]
  },
  {
   "cell_type": "code",
   "execution_count": 5,
   "id": "fb00b979",
   "metadata": {},
   "outputs": [
    {
     "data": {
      "text/plain": [
       "['Acrobat', 'Acrobat Elements', 'Esl', 'PDFMaker', 'Resource']"
      ]
     },
     "execution_count": 5,
     "metadata": {},
     "output_type": "execute_result"
    }
   ],
   "source": [
    "path = r\"C:\\Program Files\\Adobe\\Acrobat DC\"\n",
    "os.listdir(path)"
   ]
  },
  {
   "cell_type": "code",
   "execution_count": 7,
   "id": "66cd14a3",
   "metadata": {},
   "outputs": [
    {
     "name": "stdout",
     "output_type": "stream",
     "text": [
      "folder created succesfully\n"
     ]
    }
   ],
   "source": [
    "os.mkdir(\"text\") ## mkdir() -- mk mean make directory itis used to make new directory\n",
    "print('folder created succesfully')"
   ]
  },
  {
   "cell_type": "code",
   "execution_count": 8,
   "id": "9187f418",
   "metadata": {},
   "outputs": [
    {
     "data": {
      "text/plain": [
       "['os.ipynb', 'text']"
      ]
     },
     "execution_count": 8,
     "metadata": {},
     "output_type": "execute_result"
    }
   ],
   "source": [
    "os.listdir(os.getcwd())"
   ]
  },
  {
   "cell_type": "code",
   "execution_count": 9,
   "id": "8aa5f14e",
   "metadata": {},
   "outputs": [
    {
     "name": "stdout",
     "output_type": "stream",
     "text": [
      "text dictionary renamed to non\n"
     ]
    }
   ],
   "source": [
    "os.rename(\"text\", \"non\")\n",
    "print(\"text dictionary renamed to non\")"
   ]
  },
  {
   "cell_type": "code",
   "execution_count": 10,
   "id": "d008bd3c",
   "metadata": {},
   "outputs": [
    {
     "name": "stdout",
     "output_type": "stream",
     "text": [
      "folder deleted successfilly\n"
     ]
    }
   ],
   "source": [
    "os.rmdir(\"non\")\n",
    "print(\"folder deleted successfilly\")"
   ]
  },
  {
   "cell_type": "code",
   "execution_count": 11,
   "id": "3a745d96",
   "metadata": {},
   "outputs": [
    {
     "data": {
      "text/plain": [
       "['os.ipynb']"
      ]
     },
     "execution_count": 11,
     "metadata": {},
     "output_type": "execute_result"
    }
   ],
   "source": [
    "os.listdir()"
   ]
  },
  {
   "cell_type": "code",
   "execution_count": 12,
   "id": "f3f6a0ff",
   "metadata": {},
   "outputs": [
    {
     "data": {
      "text/plain": [
       "'c:\\\\Users\\\\USER\\\\Desktop\\\\DATA SCIENCE\\\\OS'"
      ]
     },
     "execution_count": 12,
     "metadata": {},
     "output_type": "execute_result"
    }
   ],
   "source": [
    "os.getcwd()"
   ]
  },
  {
   "cell_type": "code",
   "execution_count": 15,
   "id": "868c163b",
   "metadata": {},
   "outputs": [
    {
     "name": "stdout",
     "output_type": "stream",
     "text": [
      "path exist None\n"
     ]
    }
   ],
   "source": [
    "path= r'c:\\\\Users\\\\USER\\\\Desktop\\\\DATA SCIENCE\\\\OS'\n",
    "path=os.environ.get(path)\n",
    "print(\"path exist\", path)"
   ]
  },
  {
   "cell_type": "code",
   "execution_count": 17,
   "id": "c00da9c0",
   "metadata": {},
   "outputs": [],
   "source": [
    "#os.system(path)"
   ]
  },
  {
   "cell_type": "code",
   "execution_count": null,
   "id": "c00541e4",
   "metadata": {},
   "outputs": [
    {
     "data": {
      "text/plain": [
       "True"
      ]
     },
     "execution_count": 22,
     "metadata": {},
     "output_type": "execute_result"
    }
   ],
   "source": [
    "path =\\Desktop\\\\DATA SCIENCE\\\\OS\\\\os.ipynb\n",
    "os.path.isfile(path)"
   ]
  },
  {
   "cell_type": "code",
   "execution_count": 25,
   "id": "77a7e86c",
   "metadata": {},
   "outputs": [
    {
     "name": "stdout",
     "output_type": "stream",
     "text": [
      "c:\\\\Users\\\\USER\\Desktop\\\\DATA SCIENCE\\\\OS\n"
     ]
    },
    {
     "data": {
      "text/plain": [
       "['os.ipynb']"
      ]
     },
     "execution_count": 25,
     "metadata": {},
     "output_type": "execute_result"
    }
   ],
   "source": [
    "path1=r\"c:\\\\Users\\\\USER\"\n",
    "path2 = r\"Desktop\\\\DATA SCIENCE\\\\OS\"\n",
    "complete_path = os.path.join(path1, path2)\n",
    "print(complete_path)\n",
    "os.listdir(complete_path)"
   ]
  },
  {
   "cell_type": "code",
   "execution_count": 30,
   "id": "1cc58100",
   "metadata": {},
   "outputs": [
    {
     "name": "stdout",
     "output_type": "stream",
     "text": [
      "size of the path(in paths) 6436\n"
     ]
    }
   ],
   "source": [
    "path= r\"c:\\\\Users\\\\USER\\Desktop\\\\DATA SCIENCE\\\\OS\\\\os.ipynb\" \n",
    "size =os.path.getsize(path)\n",
    "\n",
    "print(\"size of the path(in paths)\", size)\n"
   ]
  },
  {
   "cell_type": "code",
   "execution_count": 35,
   "id": "61e41781",
   "metadata": {},
   "outputs": [
    {
     "name": "stdout",
     "output_type": "stream",
     "text": [
      "before dir C:\\Users\\USER\\Desktop\\DATA SCIENCE\\PYTHON\n",
      "after dir C:\\Users\\USER\\Desktop\\DATA SCIENCE\\PYTHON\n"
     ]
    }
   ],
   "source": [
    "print(\"before dir\" , os.getcwd())\n",
    "os.chdir(r\"C:\\Users\\USER\\Desktop\\DATA SCIENCE\\PYTHON\")\n",
    "print(\"after dir\", os.getcwd())"
   ]
  },
  {
   "cell_type": "code",
   "execution_count": null,
   "id": "876f842a",
   "metadata": {},
   "outputs": [],
   "source": []
  }
 ],
 "metadata": {
  "kernelspec": {
   "display_name": "Python 3",
   "language": "python",
   "name": "python3"
  },
  "language_info": {
   "codemirror_mode": {
    "name": "ipython",
    "version": 3
   },
   "file_extension": ".py",
   "mimetype": "text/x-python",
   "name": "python",
   "nbconvert_exporter": "python",
   "pygments_lexer": "ipython3",
   "version": "3.11.5"
  }
 },
 "nbformat": 4,
 "nbformat_minor": 5
}
