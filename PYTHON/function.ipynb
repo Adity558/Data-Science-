{
 "cells": [
  {
   "cell_type": "markdown",
   "id": "2035a179",
   "metadata": {},
   "source": [
    "# \n",
    "FUNCTION"
   ]
  },
  {
   "cell_type": "markdown",
   "id": "145afabe",
   "metadata": {},
   "source": [
    "###\n",
    "user defined function and predefine function--- print, len , type, range, map min , max , sum\n"
   ]
  },
  {
   "cell_type": "code",
   "execution_count": 2,
   "id": "8a1b5c76",
   "metadata": {},
   "outputs": [],
   "source": [
    "## function --- it is block of code that is used to perform a specific task\n",
    "\n",
    "def function_name():\n",
    "    pass\n",
    "\n",
    "#def is keyword\n",
    "# function_name>>>>>>>..function Name\n",
    "#pass>> placeholder_ ---- sambhalna ke kam aata hee \n",
    "\n",
    "function_name() ## .. calling function\n"
   ]
  },
  {
   "cell_type": "markdown",
   "id": "8ce7378f",
   "metadata": {},
   "source": []
  },
  {
   "cell_type": "code",
   "execution_count": 10,
   "id": "f94085e6",
   "metadata": {},
   "outputs": [],
   "source": [
    "def display():\n",
    "    print(\"hellow\")\n",
    "    \n",
    "    display()\n"
   ]
  },
  {
   "cell_type": "code",
   "execution_count": 8,
   "id": "30c362e7",
   "metadata": {},
   "outputs": [
    {
     "name": "stdout",
     "output_type": "stream",
     "text": [
      "hellow\n"
     ]
    }
   ],
   "source": [
    "display()\n"
   ]
  },
  {
   "cell_type": "code",
   "execution_count": 12,
   "id": "3102ea5c",
   "metadata": {},
   "outputs": [
    {
     "name": "stdout",
     "output_type": "stream",
     "text": [
      "50\n"
     ]
    }
   ],
   "source": [
    "def add():\n",
    "    a=20\n",
    "    b=30\n",
    "    print(a+b)\n",
    "add()"
   ]
  },
  {
   "cell_type": "markdown",
   "id": "ba00f48e",
   "metadata": {},
   "source": [
    "# \n",
    "ARRGUMENT AND PARAMETER\n"
   ]
  },
  {
   "cell_type": "markdown",
   "id": "cc5c5e74",
   "metadata": {},
   "source": [
    "##\n",
    "argument-- jo value pass karta hai\n",
    "parameter-- jinpe functionm depand karta hee"
   ]
  },
  {
   "cell_type": "code",
   "execution_count": 14,
   "id": "0ad3495b",
   "metadata": {},
   "outputs": [
    {
     "name": "stdout",
     "output_type": "stream",
     "text": [
      "30\n"
     ]
    }
   ],
   "source": [
    "def add(a,b):\n",
    "    print(a+b)\n",
    "add(10, 20)"
   ]
  },
  {
   "cell_type": "code",
   "execution_count": 18,
   "id": "7c5bdcb0",
   "metadata": {},
   "outputs": [
    {
     "name": "stdout",
     "output_type": "stream",
     "text": [
      " my name is aditya, my age is 22 , my address is jaipur\n",
      " my name is aditya, my age is 22 , my address is sector 28\n"
     ]
    }
   ],
   "source": [
    "def display(name, age, address=\"jaipur\"):\n",
    "    print(f\" my name is {name}, my age is {age} , my address is {address}\")\n",
    "##f is used when you need to pass varible btw string \n",
    "display(\"aditya\", 22)\n",
    "display(\"aditya\", 22, \"sector 28\")"
   ]
  },
  {
   "cell_type": "markdown",
   "id": "9fa04937",
   "metadata": {},
   "source": [
    "# \n",
    "lambda Function\n"
   ]
  },
  {
   "cell_type": "markdown",
   "id": "9e0b7d32",
   "metadata": {},
   "source": [
    "###\n",
    "lambda>>>> keyword\n",
    "lambda is an anonymous function\n",
    "it is used for single line function\n",
    "it is used for short function\n",
    "it is used for function that is used once\n",
    "it is used when for one line function\n",
    "\n"
   ]
  },
  {
   "cell_type": "code",
   "execution_count": 19,
   "id": "48290081",
   "metadata": {},
   "outputs": [
    {
     "data": {
      "text/plain": [
       "30"
      ]
     },
     "execution_count": 19,
     "metadata": {},
     "output_type": "execute_result"
    }
   ],
   "source": [
    "add = lambda a, b : a+b\n",
    "add(10, 20)"
   ]
  },
  {
   "cell_type": "code",
   "execution_count": 20,
   "id": "18807f3a",
   "metadata": {},
   "outputs": [
    {
     "data": {
      "text/plain": [
       "100"
      ]
     },
     "execution_count": 20,
     "metadata": {},
     "output_type": "execute_result"
    }
   ],
   "source": [
    "square = lambda a : a**2\n",
    "square(10)"
   ]
  }
 ],
 "metadata": {
  "kernelspec": {
   "display_name": "Python 3",
   "language": "python",
   "name": "python3"
  },
  "language_info": {
   "codemirror_mode": {
    "name": "ipython",
    "version": 3
   },
   "file_extension": ".py",
   "mimetype": "text/x-python",
   "name": "python",
   "nbconvert_exporter": "python",
   "pygments_lexer": "ipython3",
   "version": "3.11.5"
  }
 },
 "nbformat": 4,
 "nbformat_minor": 5
}
