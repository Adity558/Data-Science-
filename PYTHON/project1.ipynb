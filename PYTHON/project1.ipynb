{
 "cells": [
  {
   "cell_type": "markdown",
   "id": "77f1669d",
   "metadata": {},
   "source": [
    "# PROJECT1\n"
   ]
  },
  {
   "cell_type": "code",
   "execution_count": 19,
   "id": "8176da25",
   "metadata": {},
   "outputs": [
    {
     "name": "stdout",
     "output_type": "stream",
     "text": [
      "My name is: aadi\n",
      " your BMI is 2.080856123662307\n"
     ]
    },
    {
     "data": {
      "text/plain": [
       "2.080856123662307"
      ]
     },
     "execution_count": 19,
     "metadata": {},
     "output_type": "execute_result"
    }
   ],
   "source": [
    "class BMI:\n",
    "\n",
    "    def __init__(self,name,weight, height):\n",
    "        self.name= name\n",
    "        self.weight= weight\n",
    "        self.height= height\n",
    "    \n",
    "    def Calculate_bmi(self):\n",
    "        bmi =  self.weight / (self.height**2)\n",
    "        print(f\"My name is: {self.name}\\n your BMI is {bmi}\")\n",
    "        return bmi\n",
    "    \n",
    "    def bmi_category(self):\n",
    "        bmi= self.Calculate_bmi()\n",
    "\n",
    "        if bmi<18.5:\n",
    "            print(\"UNDERWEIGHT\")\n",
    "        elif bmi< 25:\n",
    "            print(\"NORMAL WEIGHT\")\n",
    "        elif bmi<30:\n",
    "            print(\"OVERWEIGHT\")\n",
    "        else:\n",
    "            print(\"OBESE\")\n",
    "\n",
    "\n",
    "name =str(input(\"your name is:- \"))\n",
    "weight= float(input(\"your weight is:-\"))\n",
    "height=  float(input(\"Your height is:-\" ))\n",
    "\n",
    "obj= BMI(name,weight,height)\n",
    "\n",
    "\n",
    "obj.Calculate_bmi()"
   ]
  },
  {
   "cell_type": "code",
   "execution_count": 20,
   "id": "bd2d7ef5",
   "metadata": {},
   "outputs": [
    {
     "name": "stdout",
     "output_type": "stream",
     "text": [
      "My name is: aadi\n",
      " your BMI is 2.080856123662307\n",
      "UNDERWEIGHT\n"
     ]
    }
   ],
   "source": [
    "obj.bmi_category()"
   ]
  },
  {
   "cell_type": "code",
   "execution_count": null,
   "id": "33cf2d80",
   "metadata": {},
   "outputs": [],
   "source": [
    "class ATM:\n",
    "    def __init__(self, balance ):\n",
    "        self.balance= balance \n",
    "        self.pin= '1234'\n",
    "\n",
    "\n",
    "    def auntentication (self):\n",
    "        entered_pin= input(\"enter 4 digit pin: \")\n",
    "        if entered_pin == self.pin:\n",
    "            print(\"access successfuly done\")\n",
    "            return True\n",
    "        else:\n",
    "            print(\"incorrect pin. access denied\")\n",
    "            return False\n",
    "          \n",
    "    def deposit(self):\n",
    "        amount=float(input(\"enter the deposit:\"))\n",
    "        if amount > 0:\n",
    "            self.balance+=amount\n",
    "            print(f\"deposit successfully {amount:.2f}\")\n",
    "        else:\n",
    "            print(\"invalid deposit amount\")\n",
    "    def withdraw(self):\n",
    "        amount =float(input(\"enter the withdraw:\"))\n",
    "        if amount<=self.balance:\n",
    "            self.balance-= amount\n",
    "            print(f\"withdraw successfully done {amount:.2f}\")\n",
    "        else:\n",
    "            print(\"insufficient balance \")\n",
    "        \n",
    "    def balance(self):\n",
    "        print(f\"current balance is {self.balance:.2f}\")\n",
    "    \n",
    "    \n",
    "\n",
    "\n",
    "\n",
    "atm_machine=(ATM)"
   ]
  }
 ],
 "metadata": {
  "kernelspec": {
   "display_name": "Python 3",
   "language": "python",
   "name": "python3"
  },
  "language_info": {
   "codemirror_mode": {
    "name": "ipython",
    "version": 3
   },
   "file_extension": ".py",
   "mimetype": "text/x-python",
   "name": "python",
   "nbconvert_exporter": "python",
   "pygments_lexer": "ipython3",
   "version": "3.11.5"
  }
 },
 "nbformat": 4,
 "nbformat_minor": 5
}
