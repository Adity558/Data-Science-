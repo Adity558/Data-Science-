{
 "cells": [
  {
   "cell_type": "markdown",
   "id": "2498d6ee",
   "metadata": {},
   "source": [
    "#LOOPING IN PYTHON"
   ]
  },
  {
   "cell_type": "code",
   "execution_count": 1,
   "id": "d9f062e7",
   "metadata": {},
   "outputs": [
    {
     "name": "stdout",
     "output_type": "stream",
     "text": [
      "a\n",
      "d\n",
      "i\n",
      "t\n",
      "y\n",
      "a\n"
     ]
    }
   ],
   "source": [
    "# for \n",
    "# while\n",
    "# BHUPESH\n",
    "\n",
    "for x in \"aditya\":\n",
    " print(x)\n",
    "\n"
   ]
  },
  {
   "cell_type": "code",
   "execution_count": 2,
   "id": "369381f2",
   "metadata": {},
   "outputs": [
    {
     "name": "stdout",
     "output_type": "stream",
     "text": [
      "1\n",
      "2\n",
      "3\n",
      "4\n",
      "5\n",
      "5\n"
     ]
    }
   ],
   "source": [
    "lst= [1,2,3,4,5,5,]\n",
    "for x in lst:\n",
    "    print(x)\n"
   ]
  },
  {
   "cell_type": "code",
   "execution_count": 3,
   "id": "f3084358",
   "metadata": {},
   "outputs": [
    {
     "name": "stdout",
     "output_type": "stream",
     "text": [
      "2\n",
      "4\n",
      "6\n",
      "8\n",
      "10\n",
      "12\n",
      "14\n",
      "16\n",
      "18\n",
      "20\n"
     ]
    }
   ],
   "source": [
    "# range\n",
    "for x in range(2 , 22 , 2): ##(start point , second ending , 2 gap)\n",
    "    print(x)"
   ]
  },
  {
   "cell_type": "code",
   "execution_count": null,
   "id": "aa1b7b11",
   "metadata": {},
   "outputs": [],
   "source": []
  },
  {
   "cell_type": "code",
   "execution_count": 4,
   "id": "e1a5b878",
   "metadata": {},
   "outputs": [],
   "source": [
    "my_dict= {\"name\" : \"John\", \"age\" : 30, \"city\" : \"New York\"}\n"
   ]
  },
  {
   "cell_type": "code",
   "execution_count": 5,
   "id": "ae6afa4f",
   "metadata": {},
   "outputs": [
    {
     "data": {
      "text/plain": [
       "{'name': 'John', 'age': 30, 'city': 'New York'}"
      ]
     },
     "execution_count": 5,
     "metadata": {},
     "output_type": "execute_result"
    }
   ],
   "source": [
    "my_dict"
   ]
  },
  {
   "cell_type": "code",
   "execution_count": 6,
   "id": "4b3f3e50",
   "metadata": {},
   "outputs": [
    {
     "name": "stdout",
     "output_type": "stream",
     "text": [
      "('name', 'John')\n",
      "('age', 30)\n",
      "('city', 'New York')\n"
     ]
    }
   ],
   "source": [
    "for item in my_dict.items():\n",
    "    print(item)"
   ]
  },
  {
   "cell_type": "code",
   "execution_count": 7,
   "id": "21e6cb1b",
   "metadata": {},
   "outputs": [
    {
     "name": "stdout",
     "output_type": "stream",
     "text": [
      "name\n",
      "age\n",
      "city\n"
     ]
    }
   ],
   "source": [
    "for items in my_dict:\n",
    "    print(items)"
   ]
  },
  {
   "cell_type": "markdown",
   "id": "3c9d8f30",
   "metadata": {},
   "source": []
  },
  {
   "cell_type": "code",
   "execution_count": 8,
   "id": "0e7f0e01",
   "metadata": {},
   "outputs": [
    {
     "name": "stdout",
     "output_type": "stream",
     "text": [
      "John\n",
      "30\n",
      "New York\n"
     ]
    }
   ],
   "source": [
    "for items in my_dict.values():\n",
    "    print(items)"
   ]
  },
  {
   "cell_type": "markdown",
   "id": "57899486",
   "metadata": {},
   "source": [
    "# WHILE LOOP\n"
   ]
  },
  {
   "cell_type": "markdown",
   "id": "ba840416",
   "metadata": {},
   "source": [
    "while loop is used for Repeats a block of code as long as the condition is True.\n",
    "\n",
    "Useful when we don’t know how many times to loop in advance."
   ]
  },
  {
   "cell_type": "code",
   "execution_count": 2,
   "id": "3628de48",
   "metadata": {},
   "outputs": [],
   "source": [
    "count = 10\n",
    "while count <= 5:\n",
    "    print(count)\n",
    "    count -= 1"
   ]
  }
 ],
 "metadata": {
  "kernelspec": {
   "display_name": "Python 3",
   "language": "python",
   "name": "python3"
  },
  "language_info": {
   "codemirror_mode": {
    "name": "ipython",
    "version": 3
   },
   "file_extension": ".py",
   "mimetype": "text/x-python",
   "name": "python",
   "nbconvert_exporter": "python",
   "pygments_lexer": "ipython3",
   "version": "3.11.5"
  }
 },
 "nbformat": 4,
 "nbformat_minor": 5
}
