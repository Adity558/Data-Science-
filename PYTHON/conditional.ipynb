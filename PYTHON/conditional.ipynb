{
 "cells": [
  {
   "cell_type": "markdown",
   "id": "24e5d2ed",
   "metadata": {},
   "source": [
    "# CONDITIONAL STATEMENT\n",
    "*IF , ELSE , ELIF\n"
   ]
  },
  {
   "cell_type": "code",
   "execution_count": null,
   "id": "5d0ca9ad",
   "metadata": {},
   "outputs": [
    {
     "name": "stdout",
     "output_type": "stream",
     "text": [
      "x hai vo 20 hee\n"
     ]
    }
   ],
   "source": [
    "x= 20\n",
    "# if condition:\n",
    "#     # code to be executed if condition is true\n",
    "\n",
    "# else condition:\n",
    "# # code to be executed if condition is false\n",
    "\n",
    "# elif condition:\n",
    "# # code to be executed if condition is true\n",
    "\n",
    "if x<10:\n",
    "    print(\"x hai vo chota hee 10 se\")\n",
    "\n",
    "elif x==20:\n",
    "    print(\"x hai vo 20 hee\")\n",
    "\n",
    "else:\n",
    "    print(\"x bada hee 10 n se\" )\n",
    "          \n"
   ]
  },
  {
   "cell_type": "code",
   "execution_count": 5,
   "id": "9b6af331",
   "metadata": {},
   "outputs": [
    {
     "name": "stdout",
     "output_type": "stream",
     "text": [
      "you are not adult\n"
     ]
    }
   ],
   "source": [
    "x = int(input(\"age\"))\n",
    "\n",
    "if x>18:\n",
    "    print(\"you are adult\")\n",
    "\n",
    "elif x==18:\n",
    "    print(\"you are adult\")\n",
    "\n",
    "else: \n",
    "    print(\"you are not adult\")\n"
   ]
  },
  {
   "cell_type": "code",
   "execution_count": 1,
   "id": "59761d68",
   "metadata": {},
   "outputs": [
    {
     "name": "stdout",
     "output_type": "stream",
     "text": [
      "num2 is the largest number\n"
     ]
    }
   ],
   "source": [
    "num1= int(input(\"enter the num 1;-\"))\n",
    "num2= int(input(\"enter the number 2:-\"))\n",
    "\n",
    "if num1 > num2 :\n",
    "  print(\"num1 is the largest number\")\n",
    "\n",
    "elif num2 > num1 :\n",
    "   print(\"num2 is the largest number\")\n",
    "\n",
    "else:\n",
    "   print(\"both the numbers are equal\")"
   ]
  },
  {
   "cell_type": "code",
   "execution_count": 2,
   "id": "cd8b72c7",
   "metadata": {},
   "outputs": [
    {
     "name": "stdout",
     "output_type": "stream",
     "text": [
      "the number is odd\n"
     ]
    }
   ],
   "source": [
    "num = int(input(\"enter the number\"))\n",
    "\n",
    "if num%2==0:\n",
    "    print(\"the number is even\")\n",
    "\n",
    "else:\n",
    "    print(\"the number is odd\")"
   ]
  },
  {
   "cell_type": "code",
   "execution_count": 3,
   "id": "ae8da55b",
   "metadata": {},
   "outputs": [
    {
     "name": "stdout",
     "output_type": "stream",
     "text": [
      "year is leap year\n"
     ]
    }
   ],
   "source": [
    "## for cheacking leap year \n",
    " \n",
    "year = int(input(\"Enter a year:-\"))\n",
    "\n",
    "if year%4==0 & year%400==0:\n",
    "    print(\"year is leap year\")\n",
    "\n",
    "else:\n",
    "    print(\"it is not a leap year\")\n",
    "    "
   ]
  },
  {
   "cell_type": "code",
   "execution_count": 4,
   "id": "c2046b3c",
   "metadata": {},
   "outputs": [
    {
     "name": "stdout",
     "output_type": "stream",
     "text": [
      "Grade D\n"
     ]
    }
   ],
   "source": [
    "## grading system \n",
    "\n",
    "marks= int(input(\"marks obtained in paper\"))\n",
    "\n",
    "if  marks>=90:\n",
    "    print(\"Grade A\")\n",
    "\n",
    "elif marks>=75:\n",
    "    print(\"Grade B\")\n",
    "\n",
    "elif marks>=60:\n",
    "    print(\"Grade C\")\n",
    "\n",
    "else:\n",
    "   print(\"Grade D\")"
   ]
  },
  {
   "cell_type": "code",
   "execution_count": 5,
   "id": "2ad3392d",
   "metadata": {},
   "outputs": [
    {
     "name": "stdout",
     "output_type": "stream",
     "text": [
      "all are equal\n"
     ]
    }
   ],
   "source": [
    "## find largest of three number\n",
    "num1= int(input(\"Enter first number\"))\n",
    "num2= int(input(\"Enter second number\"))\n",
    "num3= int(input(\"Enter third number\"))\n",
    "\n",
    "if num1>num2> num3:\n",
    "    print(\"num 1 is largest\")\n",
    "    \n",
    "elif num2>num3>num1:\n",
    "    print(\"num2 is largest\")\n",
    "\n",
    "elif num3>num2>num1:\n",
    "    print(\"num3 is largest\")\n",
    "\n",
    "else:\n",
    "    print(\"all are equal\")"
   ]
  },
  {
   "cell_type": "code",
   "execution_count": null,
   "id": "38be7f51",
   "metadata": {},
   "outputs": [
    {
     "name": "stdout",
     "output_type": "stream",
     "text": [
      "stop\n"
     ]
    }
   ],
   "source": [
    "#  Write a program that takes the color of a traffic light as input (red, yellow, green) \n",
    "# and prints the corresponding action:\n",
    "\n",
    "colour = input(\"which colour is traffic light\").lower()\n",
    "\n",
    "if colour ==\"red\":\n",
    "    print(\"stop\")\n",
    "\n",
    "elif colour ==\"yellow\":\n",
    "    print(\"wait\")\n",
    "\n",
    "elif colour ==\"green\":\n",
    "    print(\"GO\")\n",
    "\n",
    "else:\n",
    "    print(\"open traffic\")"
   ]
  }
 ],
 "metadata": {
  "kernelspec": {
   "display_name": "Python 3",
   "language": "python",
   "name": "python3"
  },
  "language_info": {
   "codemirror_mode": {
    "name": "ipython",
    "version": 3
   },
   "file_extension": ".py",
   "mimetype": "text/x-python",
   "name": "python",
   "nbconvert_exporter": "python",
   "pygments_lexer": "ipython3",
   "version": "3.11.5"
  }
 },
 "nbformat": 4,
 "nbformat_minor": 5
}
