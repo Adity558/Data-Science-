{
 "cells": [
  {
   "cell_type": "markdown",
   "id": "ea3e78f0",
   "metadata": {},
   "source": [
    "# FILE HANDLING"
   ]
  },
  {
   "cell_type": "markdown",
   "id": "e751e3c7",
   "metadata": {},
   "source": [
    "* File handling in Python refers to the process of interacting with files stored on a computer's file system. This allows Python programs to perform operations such as creating, opening, reading, writing, appending, and deleting files."
   ]
  },
  {
   "cell_type": "markdown",
   "id": "e4ae598e",
   "metadata": {},
   "source": [
    "\n",
    "\n",
    "| Mode   | Description                                                  |\n",
    "| ------ | ------------------------------------------------------------ |\n",
    "| \"r\"  | Read mode (default), error if file doesn't exist             |\n",
    "| \"w\"  | Write mode, creates a file if not exist, overwrites existing |\n",
    "| \"a\"  | Append mode, adds content to end of file                     |\n",
    "| \"x\"  | Create mode, error if file already exists        "
   ]
  },
  {
   "cell_type": "code",
   "execution_count": 3,
   "id": "49db72e8",
   "metadata": {},
   "outputs": [
    {
     "data": {
      "text/plain": [
       "'hello publlic'"
      ]
     },
     "execution_count": 3,
     "metadata": {},
     "output_type": "execute_result"
    }
   ],
   "source": [
    "file =open(\"demo.txt\",'r')\n",
    "file.read()\n",
    "\n"
   ]
  },
  {
   "cell_type": "code",
   "execution_count": 4,
   "id": "8d0e067b",
   "metadata": {},
   "outputs": [
    {
     "data": {
      "text/plain": [
       "'hello publlic'"
      ]
     },
     "execution_count": 4,
     "metadata": {},
     "output_type": "execute_result"
    }
   ],
   "source": [
    "\n",
    "file =open(\"demo.txt\",'r')\n",
    "# file.read()\n",
    "file.readline()\n",
    "# file =open('demo.txt','a')## it will append the file &&& it will read all the lines of the file\n"
   ]
  },
  {
   "cell_type": "code",
   "execution_count": 1,
   "id": "145885ce",
   "metadata": {},
   "outputs": [],
   "source": [
    "file =open(\"demo.txt\",'w')## w is used for write mode and demo.txt is name of file\n",
    "file.write(\"hello publlic\")## it will write the file\n",
    "\n",
    "file.close()"
   ]
  },
  {
   "cell_type": "code",
   "execution_count": 13,
   "id": "8ca40dff",
   "metadata": {},
   "outputs": [],
   "source": [
    "file =open('demo.txt','r')\n",
    "file.read()\n",
    "file.close()"
   ]
  },
  {
   "cell_type": "code",
   "execution_count": 15,
   "id": "f982ed07",
   "metadata": {},
   "outputs": [],
   "source": [
    "## append\n",
    "file =open(\"demo.txt\",'a')\n",
    "file.write(\"bhai me to marunga\")\n",
    "file.close()\n"
   ]
  },
  {
   "cell_type": "code",
   "execution_count": 17,
   "id": "7b1b7484",
   "metadata": {},
   "outputs": [],
   "source": [
    "file=open(\"demo.txt\",'r')\n",
    "file.read()\n",
    "file.close()\n"
   ]
  },
  {
   "cell_type": "code",
   "execution_count": 2,
   "id": "60ed6ad1",
   "metadata": {},
   "outputs": [],
   "source": [
    "file= open(\"text.txt\",'a')\n",
    "file.write(\"append mode ka kaam ye hota ha kii agr esko file milta hai to te usi file ke andar append karega agar usko file nahi milti hai to create karta hee \")\n",
    "file.close()"
   ]
  },
  {
   "cell_type": "code",
   "execution_count": null,
   "id": "3178515d",
   "metadata": {},
   "outputs": [],
   "source": []
  },
  {
   "cell_type": "code",
   "execution_count": null,
   "id": "2f7b7e2e",
   "metadata": {},
   "outputs": [],
   "source": [
    "##create mode\n",
    "file=open(\"text.txt\",'x')\n",
    "# file.read()  agar file hogi to eror batayega and agar nahi hogi to create kar dega  create mode me\n",
    "file.write(\"hii buddy\")\n",
    "file.close()\n",
    "\n",
    "\n"
   ]
  },
  {
   "cell_type": "code",
   "execution_count": null,
   "id": "b2f17a7e",
   "metadata": {},
   "outputs": [],
   "source": [
    "file= open(\"text.txt\",'r')\n",
    "file.read()\n",
    "file.close()\n"
   ]
  }
 ],
 "metadata": {
  "kernelspec": {
   "display_name": "Python 3",
   "language": "python",
   "name": "python3"
  },
  "language_info": {
   "codemirror_mode": {
    "name": "ipython",
    "version": 3
   },
   "file_extension": ".py",
   "mimetype": "text/x-python",
   "name": "python",
   "nbconvert_exporter": "python",
   "pygments_lexer": "ipython3",
   "version": "3.11.5"
  }
 },
 "nbformat": 4,
 "nbformat_minor": 5
}
