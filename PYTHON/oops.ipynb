{
 "cells": [
  {
   "cell_type": "markdown",
   "id": "1230b6cd",
   "metadata": {},
   "source": [
    "# OOps Concepts"
   ]
  },
  {
   "cell_type": "code",
   "execution_count": null,
   "id": "d69707b7",
   "metadata": {},
   "outputs": [],
   "source": [
    "class Class_name:\n",
    "    pass\n"
   ]
  },
  {
   "cell_type": "code",
   "execution_count": null,
   "id": "0e8df60b",
   "metadata": {},
   "outputs": [
    {
     "name": "stdout",
     "output_type": "stream",
     "text": [
      "my name is ritik, my age is 20\n"
     ]
    }
   ],
   "source": [
    "class Student:\n",
    "    name=\"ritik\"### class variable \n",
    "    age=20### class variable \n",
    "    print(f'my name is {name}, my age is {age}')## methods\n",
    "obj_st =Student() ### object of class student\n"
   ]
  },
  {
   "cell_type": "code",
   "execution_count": 3,
   "id": "ebfae00d",
   "metadata": {},
   "outputs": [
    {
     "data": {
      "text/plain": [
       "'ritik'"
      ]
     },
     "execution_count": 3,
     "metadata": {},
     "output_type": "execute_result"
    }
   ],
   "source": [
    "obj_st.name"
   ]
  },
  {
   "cell_type": "code",
   "execution_count": 4,
   "id": "0a25227b",
   "metadata": {},
   "outputs": [
    {
     "data": {
      "text/plain": [
       "20"
      ]
     },
     "execution_count": 4,
     "metadata": {},
     "output_type": "execute_result"
    }
   ],
   "source": [
    "obj_st.age"
   ]
  },
  {
   "cell_type": "code",
   "execution_count": null,
   "id": "91d5219e",
   "metadata": {},
   "outputs": [],
   "source": [
    "class Student:\n",
    "    name= 'Aditya'\n",
    "    age = 20\n",
    "    \n",
    "    def info(self):##info is method and self is parameter ya object keyword\n",
    "        print(\"this is my first method\")\n",
    "        print('how are you')\n",
    "\n",
    "obj_st =Student()"
   ]
  },
  {
   "cell_type": "code",
   "execution_count": 11,
   "id": "eed2b47b",
   "metadata": {},
   "outputs": [
    {
     "name": "stdout",
     "output_type": "stream",
     "text": [
      "this is my first method\n",
      "how are you\n"
     ]
    }
   ],
   "source": [
    "obj_st.info()"
   ]
  },
  {
   "cell_type": "code",
   "execution_count": null,
   "id": "9512066c",
   "metadata": {},
   "outputs": [
    {
     "name": "stdout",
     "output_type": "stream",
     "text": [
      "my name is Aditya, my age is 20\n"
     ]
    }
   ],
   "source": [
    "class Student:\n",
    "    name= 'Aditya'\n",
    "    age = 20\n",
    "    \n",
    "    def info(self):##info is method and self is parameter ya object keyword\n",
    "        print(f\"my name is {self.name}, my age is {self.age}\")\n",
    "   \n",
    "\n",
    "obj_st =Student()\n",
    "\n",
    "obj_st.info()"
   ]
  },
  {
   "cell_type": "markdown",
   "id": "72301e4c",
   "metadata": {},
   "source": [
    "# INHERITENCE"
   ]
  },
  {
   "cell_type": "markdown",
   "id": "6f944b8c",
   "metadata": {},
   "source": [
    "Types of Inheritence---\n",
    "* single inheritance \n",
    "* mutiple inheritance\n",
    "* mutilevel inheritance \n",
    "* hybrid inheritance \n",
    "* hierarchial inheritance\n"
   ]
  },
  {
   "cell_type": "code",
   "execution_count": 17,
   "id": "4485cdd4",
   "metadata": {},
   "outputs": [],
   "source": [
    "class College:\n",
    "    pass\n",
    "class Student:\n",
    "    pass"
   ]
  },
  {
   "cell_type": "code",
   "execution_count": null,
   "id": "7dcbac40",
   "metadata": {},
   "outputs": [],
   "source": []
  },
  {
   "cell_type": "markdown",
   "id": "747ab3aa",
   "metadata": {},
   "source": [
    "####  single inheritance"
   ]
  },
  {
   "cell_type": "code",
   "execution_count": 18,
   "id": "a2f56de2",
   "metadata": {},
   "outputs": [],
   "source": [
    "class College:\n",
    " pass\n",
    "class Student(College):\n",
    " pass"
   ]
  },
  {
   "cell_type": "code",
   "execution_count": 21,
   "id": "df9d1d58",
   "metadata": {},
   "outputs": [
    {
     "name": "stdout",
     "output_type": "stream",
     "text": [
      "JECRC Foundation\n",
      "Jaipur, Rajasthan, India\n",
      "Mahima\n",
      "89\n",
      "JECRC Foundation\n",
      "Jaipur, Rajasthan, India\n"
     ]
    }
   ],
   "source": [
    "class College:\n",
    "    college_name = 'JECRC Foundation'\n",
    "    college_address = 'Jaipur, Rajasthan, India'\n",
    "\n",
    "    def info(self):\n",
    "        print(self.college_name)\n",
    "        print(self.college_address)\n",
    "\n",
    "class Student(College):\n",
    "    student_name = 'Mahima'\n",
    "    student_rollno = \"89\"\n",
    "\n",
    "obj_st = Student()\n",
    "\n",
    "print(obj_st.college_name)  # Output: JECRC Foundation\n",
    "print(obj_st.college_address)  # Output: Jaipur, Rajasthan, India\n",
    "print(obj_st.student_name)\n",
    "print(obj_st.student_rollno)\n",
    "\n",
    "obj_st.info()"
   ]
  },
  {
   "cell_type": "markdown",
   "id": "cf05271c",
   "metadata": {},
   "source": [
    "# Muliple Inheritance"
   ]
  },
  {
   "cell_type": "code",
   "execution_count": 25,
   "id": "751e314f",
   "metadata": {},
   "outputs": [
    {
     "name": "stdout",
     "output_type": "stream",
     "text": [
      "Mrs kamlesh kumar jain\n",
      "business\n",
      "Mr. Amit kumar jain\n",
      "Father name is Mrs kamlesh kumar jain\n",
      "Father job is business\n"
     ]
    }
   ],
   "source": [
    "class Father:\n",
    "    father_name ='Mrs kamlesh kumar jain'\n",
    "    father_job= 'business'\n",
    "    def info(self):\n",
    "        print(f\"Father name is {self.father_name}\")\n",
    "        print(f\"Father job is {self.father_job}\")\n",
    "class Uncle:\n",
    "    uncle_name= 'Mr. Amit kumar jain'\n",
    "\n",
    "class Child(Father, Uncle):\n",
    "    pass\n",
    "\n",
    "ob= Child()\n",
    "print(ob.father_name)\n",
    "print(ob.father_job)\n",
    "print(ob.uncle_name)\n",
    "\n",
    "ob.info()\n"
   ]
  },
  {
   "cell_type": "code",
   "execution_count": 23,
   "id": "d3b9b822",
   "metadata": {},
   "outputs": [],
   "source": [
    "## multilevel inheritance\n",
    "class Animal:\n",
    "    pass\n",
    "class Mammal(Animal):\n",
    "    pass\n",
    "class Carnivore(Mammal):\n",
    "    pass"
   ]
  },
  {
   "cell_type": "code",
   "execution_count": null,
   "id": "63ec0f73",
   "metadata": {},
   "outputs": [],
   "source": [
    "## hybrid"
   ]
  },
  {
   "cell_type": "code",
   "execution_count": null,
   "id": "bd3e8f74",
   "metadata": {},
   "outputs": [],
   "source": [
    "# hierariahal"
   ]
  },
  {
   "cell_type": "markdown",
   "id": "bdee51d3",
   "metadata": {},
   "source": [
    "# Encapsulation\n"
   ]
  },
  {
   "cell_type": "markdown",
   "id": "e9e464f9",
   "metadata": {},
   "source": [
    "* private\n",
    "* public\n",
    "* protected"
   ]
  },
  {
   "cell_type": "code",
   "execution_count": 1,
   "id": "1ebc8a74",
   "metadata": {},
   "outputs": [],
   "source": [
    "class  Student:\n",
    "    __name= \"Aditya\"## private variable --- its is denoted by duble underscore __\n",
    "    age=20## public variable\n",
    "    _id = \"123\"## protected variable --- its is denoted by single undersco\n",
    "st_obj= Student()"
   ]
  },
  {
   "cell_type": "code",
   "execution_count": 2,
   "id": "c2f306ca",
   "metadata": {},
   "outputs": [
    {
     "data": {
      "text/plain": [
       "20"
      ]
     },
     "execution_count": 2,
     "metadata": {},
     "output_type": "execute_result"
    }
   ],
   "source": [
    "st_obj.age"
   ]
  },
  {
   "cell_type": "code",
   "execution_count": null,
   "id": "c8da6ee4",
   "metadata": {},
   "outputs": [
    {
     "data": {
      "text/plain": [
       "'Aditya'"
      ]
     },
     "execution_count": 3,
     "metadata": {},
     "output_type": "execute_result"
    }
   ],
   "source": [
    "st_obj._Student__name## syntax  is used to accesss priivate vaariable"
   ]
  },
  {
   "cell_type": "code",
   "execution_count": 4,
   "id": "2b01f5b5",
   "metadata": {},
   "outputs": [
    {
     "data": {
      "text/plain": [
       "'123'"
      ]
     },
     "execution_count": 4,
     "metadata": {},
     "output_type": "execute_result"
    }
   ],
   "source": [
    "st_obj._id## syntax is used to access protected variable"
   ]
  },
  {
   "cell_type": "code",
   "execution_count": 20,
   "id": "bb15a1c6",
   "metadata": {},
   "outputs": [
    {
     "name": "stdout",
     "output_type": "stream",
     "text": [
      "your name is  aditya\n",
      "your adress is  jaipur\n",
      "my number is  phone number\n",
      "total balance:123456778Name:aditya Adress:jaipurNumberphone number\n"
     ]
    }
   ],
   "source": [
    "class Bank:\n",
    "    __account_number= \"123556\" \n",
    "    name= \"aditya\" \n",
    "    adress= \"jaipur\"\n",
    "    MY_number=\"phone number\"\n",
    "    def totalbalance(self):\n",
    "             self.balance= int(input(\"enter the amount\"))\n",
    "\n",
    "             print(f\"total balance:{self.balance}Name:{self.name} Adress:{self.adress}Number{self.MY_number}\"\n",
    "             )\n",
    "     \n",
    "\n",
    "acc_obj= Bank()\n",
    "\n",
    "\n",
    "print(\"your name is \",acc_obj.name)\n",
    "print(\"your adress is \",acc_obj.adress)\n",
    "print(\"my number is \",acc_obj.MY_number)\n",
    "acc_obj.totalbalance()\n",
    "\n",
    "\n",
    "\n",
    "\n",
    "    \n",
    "\n",
    "\n",
    "\n"
   ]
  },
  {
   "cell_type": "code",
   "execution_count": 22,
   "id": "15749908",
   "metadata": {},
   "outputs": [
    {
     "name": "stdout",
     "output_type": "stream",
     "text": [
      "total balance:12Name:aditya Adress:jaipurNumberphone number\n"
     ]
    }
   ],
   "source": [
    "acc_obj.totalbalance()"
   ]
  },
  {
   "cell_type": "markdown",
   "id": "b6fafed0",
   "metadata": {},
   "source": [
    "# Constructor\n"
   ]
  },
  {
   "cell_type": "markdown",
   "id": "edb9e1a5",
   "metadata": {},
   "source": [
    "* The constructor method in Python is called  __init__ (). It is automatically called when an object is created from a class.\n",
    "\n",
    "* The constructor method is used to initialize the attributes of the class.\n",
    "\n",
    "* if you don’t define a constructor, Python provides a default constructor that doesn’t initialize anything except self."
   ]
  },
  {
   "cell_type": "code",
   "execution_count": 28,
   "id": "b8bd527e",
   "metadata": {},
   "outputs": [
    {
     "data": {
      "text/plain": [
       "22"
      ]
     },
     "execution_count": 28,
     "metadata": {},
     "output_type": "execute_result"
    }
   ],
   "source": [
    "class Student:\n",
    "    def __init__(self, name, age):\n",
    "     self.name =name\n",
    "     self.age = age ## instance variable\n",
    "    \n",
    "obj =Student(name ='aditya', age = 22)\n",
    "\n",
    "obj.name\n",
    "obj.age"
   ]
  },
  {
   "cell_type": "code",
   "execution_count": 29,
   "id": "92e4842c",
   "metadata": {},
   "outputs": [],
   "source": [
    "class Student:\n",
    "    def __init__(self, name, age, grade):\n",
    "        self.name= name\n",
    "        self.age= age\n",
    "        self.grade= grade\n",
    "\n",
    "    def display(self):\n",
    "        print(f\"My name is: {self.name} My age is :{self.age} My grade is :{self.grade}\")\n",
    "\n",
    "obj= Student(name= \"aditya\", age ='22', grade ='A')\n"
   ]
  },
  {
   "cell_type": "code",
   "execution_count": 30,
   "id": "0b9c256b",
   "metadata": {},
   "outputs": [
    {
     "name": "stdout",
     "output_type": "stream",
     "text": [
      "My name is: aditya My age is :22 My grade is :A\n"
     ]
    }
   ],
   "source": [
    "obj.display()"
   ]
  },
  {
   "cell_type": "code",
   "execution_count": null,
   "id": "fcfa32de",
   "metadata": {},
   "outputs": [],
   "source": [
    "class Bank:\n",
    "    def __init__(self,acc_number,name, address,phone_number,amount):\n",
    "        self.__acc_number =acc_number\n",
    "        self.name = name\n",
    "        self.address = address\n",
    "        self.phone_number = phone_number\n",
    "        self.amount= amount\n",
    "    \n",
    "    def deposit(self,amount):\n",
    "       \n",
    "        self.dep=+ \n",
    "        return self.amount\n",
    "     \n",
    "        print(\"Your deposit ammount is\",self.dep)               \n",
    "\n",
    "    def withdraw(self, amount):\n",
    "        self.withd = int(input(\"My withdraw ammount is\"))\n",
    "        self.withd= self.withd + amount\n",
    "        print(\"Your withdraw ammount is\",self.withd)\n",
    "\n",
    "    def total_balance(self, ):\n",
    "        self.balance= int(input(\"your total balance is\"))\n",
    "        print(\"Your total balance is\",self.balance)\n",
    "\n",
    "    def info(self):\n",
    "\n",
    "        print(f\"My Account number is: {self.__acc_number} My name is : {self.name} My address is : {self.address}My phone number is: {self.phone_number} My amount is {self.amount}\")\n",
    "\n",
    "\n",
    "obj= Bank(acc_number =\"12345678899\",name = \"Aditya\", address= \"Bangalore\",phone_number = \"9876543210\", amount = 10000)\n",
    "\n"
   ]
  },
  {
   "cell_type": "code",
   "execution_count": 75,
   "id": "5fefd00a",
   "metadata": {},
   "outputs": [
    {
     "name": "stdout",
     "output_type": "stream",
     "text": [
      "Your total balance is 1000\n"
     ]
    }
   ],
   "source": [
    "obj.total_balance()"
   ]
  },
  {
   "cell_type": "code",
   "execution_count": 76,
   "id": "5ef45b32",
   "metadata": {},
   "outputs": [
    {
     "ename": "TypeError",
     "evalue": "Bank.deposit() missing 1 required positional argument: 'amount'",
     "output_type": "error",
     "traceback": [
      "\u001b[31m---------------------------------------------------------------------------\u001b[39m",
      "\u001b[31mTypeError\u001b[39m                                 Traceback (most recent call last)",
      "\u001b[36mCell\u001b[39m\u001b[36m \u001b[39m\u001b[32mIn[76]\u001b[39m\u001b[32m, line 1\u001b[39m\n\u001b[32m----> \u001b[39m\u001b[32m1\u001b[39m \u001b[43mobj\u001b[49m\u001b[43m.\u001b[49m\u001b[43mdeposit\u001b[49m\u001b[43m(\u001b[49m\u001b[43m)\u001b[49m\n",
      "\u001b[31mTypeError\u001b[39m: Bank.deposit() missing 1 required positional argument: 'amount'"
     ]
    }
   ],
   "source": [
    "obj.deposit()"
   ]
  },
  {
   "cell_type": "code",
   "execution_count": 62,
   "id": "bcc08c02",
   "metadata": {},
   "outputs": [
    {
     "name": "stdout",
     "output_type": "stream",
     "text": [
      "Your withdraw ammount is 500\n"
     ]
    }
   ],
   "source": [
    "obj.withdraw()"
   ]
  },
  {
   "cell_type": "code",
   "execution_count": 63,
   "id": "057a794c",
   "metadata": {},
   "outputs": [
    {
     "name": "stdout",
     "output_type": "stream",
     "text": [
      "My Account number is: 12345678899 My name is : Aditya My address is : BangaloreMy phone number is: 9876543210 My amount is 10000\n"
     ]
    }
   ],
   "source": [
    "obj.info()"
   ]
  }
 ],
 "metadata": {
  "kernelspec": {
   "display_name": "Python 3",
   "language": "python",
   "name": "python3"
  },
  "language_info": {
   "codemirror_mode": {
    "name": "ipython",
    "version": 3
   },
   "file_extension": ".py",
   "mimetype": "text/x-python",
   "name": "python",
   "nbconvert_exporter": "python",
   "pygments_lexer": "ipython3",
   "version": "3.11.5"
  }
 },
 "nbformat": 4,
 "nbformat_minor": 5
}
