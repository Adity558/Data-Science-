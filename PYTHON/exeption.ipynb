{
 "cells": [
  {
   "cell_type": "markdown",
   "id": "477f1e40",
   "metadata": {},
   "source": [
    "# Exception handling "
   ]
  },
  {
   "cell_type": "markdown",
   "id": "09c66bb5",
   "metadata": {},
   "source": [
    " * Exception handling in Python is a mechanism used to manage runtime errors, known as exceptions, that occur during the execution of a program.\n",
    "\n",
    " * it allows a program to detect and respond to these errors gracefully, preventing abrupt termination and ensuring smoother operation.\n",
    "\n",
    " ##### BLOcks\n",
    "\n",
    " * try block: This block contains the code that might potentially raise an exception.\n",
    " *used for main code \n",
    "\n",
    "* except block: This block is executed if an exception occurs within the corresponding try block. It specifies how to    handle a particular type of exception. Multiple except blocks can be used to handle different types of exceptions.\n",
    " * use for error handling\n",
    "\n",
    "* else block (optional): This block is executed if no exception occurs within the try block.\n",
    "* used for multiple error \n",
    "\n",
    "* finally block (optional): This block is always executed, regardless of whether an exception occurred or not. It is typically used for cleanup operations, such as closing files or releasing resources.\\\n",
    "* koi chale na chale ye to chaelega \n",
    "\n",
    "\n",
    "* raise statement: This statement is used to explicitly raise an exception, either a built-in exception or a custom exception defined by the programmer.\n",
    "\n",
    "* if try bloack chalega to else block bhi chalega "
   ]
  },
  {
   "cell_type": "code",
   "execution_count": 5,
   "id": "ef4b176c",
   "metadata": {},
   "outputs": [
    {
     "name": "stdout",
     "output_type": "stream",
     "text": [
      "invalid input division by zero\n"
     ]
    }
   ],
   "source": [
    "try:\n",
    "    a =int(input(\"enter a number\"))\n",
    "    b= int(input(\"enter a input\"))\n",
    "    print(a/b)\n",
    "\n",
    "except ZeroDivisionError as e:\n",
    "    print(\"invalid input\", e)\n"
   ]
  },
  {
   "cell_type": "code",
   "execution_count": 1,
   "id": "8c58456b",
   "metadata": {},
   "outputs": [
    {
     "name": "stdout",
     "output_type": "stream",
     "text": [
      "invalid input invalid literal for int() with base 10: 'cwdcg'\n"
     ]
    }
   ],
   "source": [
    "try:\n",
    "    a =int(input(\"enter a number\"))\n",
    "    b= int(input(\"enter a input\"))\n",
    "    print(a/b)\n",
    "\n",
    "except Exception as e:\n",
    "    print(\"invalid input\", e)"
   ]
  },
  {
   "cell_type": "code",
   "execution_count": 2,
   "id": "c5e67f18",
   "metadata": {},
   "outputs": [
    {
     "name": "stdout",
     "output_type": "stream",
     "text": [
      "5.0\n",
      "no error\n",
      "20\n",
      "koi chale na chale me chalunga\n"
     ]
    }
   ],
   "source": [
    "try:\n",
    " \n",
    "\n",
    "    a =int(input(\"enter a number\"))\n",
    "    b= int(input(\"enter a input\"))\n",
    "    print(a/b)\n",
    "\n",
    "except Exception as e:\n",
    "    print(\"invalid input\", e)\n",
    "\n",
    "\n",
    "else:\n",
    " print(\"no error\")\n",
    " print(a*b)\n",
    "finally:\n",
    " print(\"koi chale na chale me chalunga\")"
   ]
  },
  {
   "cell_type": "code",
   "execution_count": 13,
   "id": "93904e79",
   "metadata": {},
   "outputs": [
    {
     "name": "stdout",
     "output_type": "stream",
     "text": [
      "final result 5.0\n",
      "thanks for using our service \n"
     ]
    }
   ],
   "source": [
    "try:\n",
    "    num1= int(input(\"enter a number\"))\n",
    "    num2= int(input(\"enter a number\"))\n",
    "    result= num1/num2\n",
    "\n",
    "except ZeroDivisionError as e:\n",
    "    print(e)\n",
    "except ValueError as e:\n",
    "    print(e)\n",
    "except Exception as e:\n",
    "    print(e)\n",
    "\n",
    "else:\n",
    "    print(\"final result\", result)\n",
    "\n",
    "finally: \n",
    "    print(\"thanks for using our service \")"
   ]
  }
 ],
 "metadata": {
  "kernelspec": {
   "display_name": "Python 3",
   "language": "python",
   "name": "python3"
  },
  "language_info": {
   "codemirror_mode": {
    "name": "ipython",
    "version": 3
   },
   "file_extension": ".py",
   "mimetype": "text/x-python",
   "name": "python",
   "nbconvert_exporter": "python",
   "pygments_lexer": "ipython3",
   "version": "3.11.5"
  }
 },
 "nbformat": 4,
 "nbformat_minor": 5
}
